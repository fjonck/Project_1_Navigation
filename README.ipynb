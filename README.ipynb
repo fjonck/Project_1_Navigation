{
 "cells": [
  {
   "cell_type": "markdown",
   "metadata": {},
   "source": [
    "# Project 1: Navigation"
   ]
  },
  {
   "cell_type": "markdown",
   "metadata": {},
   "source": [
    "## Introduction"
   ]
  },
  {
   "cell_type": "markdown",
   "metadata": {},
   "source": [
    "#### The Unity environment\n",
    "In this project we are solving the \"Banana Collector\" environment using the open-source Unity plugin **Unity Machine Learning Agents (ML-Agents)**. The main use-case of those environments is to use trained agents for multiple purposes. But we are using it for designing, training and evaluating the performance of our own agent. "
   ]
  },
  {
   "cell_type": "markdown",
   "metadata": {},
   "source": [
    "#### The game and the rewards\n",
    "The goal in the environment \"Banana Collector\" is to collect as many yellow bananas as possible and avoid blue bananas. This goal is definined by the reward rule +1 for collecting a yellow banana and -1 for collecting a blue banana."
   ]
  },
  {
   "cell_type": "markdown",
   "metadata": {},
   "source": [
    "![Banana Collector example](https://video.udacity-data.com/topher/2018/June/5b1ab4b0_banana/banana.gif)"
   ]
  },
  {
   "cell_type": "markdown",
   "metadata": {},
   "source": [
    "#### The action and state space\n",
    "The action space consists of four actions: \n",
    "- 0: move forward\n",
    "- 1: move backward\n",
    "- 2: turn left\n",
    "- 3: turn right\n",
    "\n",
    "The state space consists of the agents velocity and ray-based perception of the objects in a specific range of angles in front of the agent. It has 37 dimensions."
   ]
  },
  {
   "cell_type": "markdown",
   "metadata": {},
   "source": [
    "#### The instructions for solving the environment\n",
    "The environment is considered to be solved after having achieved an average score of 13 in 100 consecutive episodes. "
   ]
  },
  {
   "cell_type": "markdown",
   "metadata": {},
   "source": [
    "#### The instructions for installing the environment\n",
    "1. Clone the repository https://github.com/udacity/deep-reinforcement-learning/tree/master/python"
   ]
  },
  {
   "cell_type": "markdown",
   "metadata": {},
   "source": [
    "<script type=\"text/javascript\"\n",
    "        src=\"https://cdnjs.cloudflare.com/ajax/libs/mathjax/2.7.0/MathJax.js?config=TeX-AMS_CHTML\"></script>"
   ]
  },
  {
   "cell_type": "markdown",
   "metadata": {},
   "source": [
    "\\\\[ a^2 = b^2 + c^2 \\\\]"
   ]
  },
  {
   "cell_type": "markdown",
   "metadata": {},
   "source": [
    "$a^{[4]}$"
   ]
  },
  {
   "cell_type": "code",
   "execution_count": null,
   "metadata": {},
   "outputs": [],
   "source": []
  }
 ],
 "metadata": {
  "kernelspec": {
   "display_name": "Python 3",
   "language": "python",
   "name": "python3"
  }
 },
 "nbformat": 4,
 "nbformat_minor": 2
}
