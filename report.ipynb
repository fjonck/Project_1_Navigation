{
 "cells": [
  {
   "cell_type": "markdown",
   "metadata": {},
   "source": [
    "# Report"
   ]
  },
  {
   "cell_type": "markdown",
   "metadata": {},
   "source": [
    "## Difference between the environments"
   ]
  },
  {
   "cell_type": "markdown",
   "metadata": {},
   "source": [
    "| Properties                                           | Banana Collector | LunarLander-v2  \n",
    "| -------------                                        |---------------   | ------\n",
    "| sice of action space                                 | 4                | 4  \n",
    "| size of state space                                  | 37               |   8  \n",
    "| action space                                 | 0, 1, 2, 3                 |  0, 1, 2, 3\n",
    "| state space                                  | [0,1]              |    [-10, 1]  \n",
    "| average score over 100 consecutive episodes to solve | 13               |    200  \n",
    "| episodic                                             | yes              | yes\n",
    "| max(abs(reward)) in one step                            | 1                | 100\n",
    "| average length of one episode                            | ?                | ?\n",
    "| average length of one episode                            | ?                | ?"
   ]
  },
  {
   "cell_type": "markdown",
   "metadata": {},
   "source": [
    "history of changes:\n",
    "- "
   ]
  }
 ],
 "metadata": {
  "kernelspec": {
   "display_name": "Python 2",
   "language": "python",
   "name": "python2"
  },
  "language_info": {
   "codemirror_mode": {
    "name": "ipython",
    "version": 2
   },
   "file_extension": ".py",
   "mimetype": "text/x-python",
   "name": "python",
   "nbconvert_exporter": "python",
   "pygments_lexer": "ipython2",
   "version": "2.7.14"
  }
 },
 "nbformat": 4,
 "nbformat_minor": 2
}
